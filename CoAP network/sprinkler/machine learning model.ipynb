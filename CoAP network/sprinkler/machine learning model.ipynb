{
 "cells": [
  {
   "cell_type": "code",
   "execution_count": null,
   "metadata": {},
   "outputs": [],
   "source": [
    "# Importing libraries\n",
    "import pandas as pd\n",
    "from sklearn.model_selection import train_test_split\n",
    "from sklearn.tree import DecisionTreeClassifier\n",
    "from sklearn.preprocessing import LabelEncoder\n",
    "import emlearn\n",
    "import matplotlib.pyplot as plt\n",
    "import seaborn as sns\n",
    "from sklearn.metrics import confusion_matrix, roc_curve, auc, precision_recall_curve\n",
    "from sklearn.tree import plot_tree\n",
    "\n",
    "# Loading the CSV file\n",
    "df = pd.read_csv('data.csv')\n",
    "\n",
    "# Converting categorical text data to numeric values\n",
    "le = LabelEncoder()\n",
    "df['crop'] = le.fit_transform(df['crop'])\n",
    "\n",
    "# Separating features from target\n",
    "X = df[['crop', 'moisture', 'temp']]\n",
    "y = df['pump']\n",
    "\n",
    "# Splitting data into train and test sets\n",
    "X_train, X_test, y_train, y_test = train_test_split(X, y, test_size=0.2, random_state=42)\n",
    "\n",
    "# Training the model (Decision Tree in this example)\n",
    "model = DecisionTreeClassifier()\n",
    "model.fit(X_train, y_train)\n",
    "\n",
    "# Evaluating the model\n",
    "accuracy = model.score(X_test, y_test)\n",
    "print(f'Accuracy: {accuracy}')\n",
    "\n",
    "# Converting the trained model to a format usable with emlearn\n",
    "eml_model = emlearn.convert(model)\n",
    "\n",
    "# Exporting the model to a header file (.h)\n",
    "with open('irrigation_model.h', 'w') as f:\n",
    "    f.write(eml_model.save(file='irrigation_model.h'))\n",
    "\n",
    "# Decision Tree Visualization\n",
    "plt.figure(figsize=(20, 10))\n",
    "plot_tree(model, feature_names=['crop', 'moisture', 'temp'], class_names=['No Pump', 'Pump'], filled=True)\n",
    "plt.title('Decision Tree')\n",
    "plt.show()"
   ]
  }
 ],
 "metadata": {
  "language_info": {
   "name": "python"
  }
 },
 "nbformat": 4,
 "nbformat_minor": 2
}
